{
 "cells": [
  {
   "cell_type": "code",
   "execution_count": 18,
   "metadata": {},
   "outputs": [],
   "source": [
    "# Pavlo Sharhan \n",
    "# BS 83\n",
    "# KP-6"
   ]
  },
  {
   "cell_type": "code",
   "execution_count": 19,
   "metadata": {},
   "outputs": [],
   "source": [
    "import seaborn as sns\n",
    "import numpy as np\n",
    "import matplotlib.pyplot as plt\n",
    "import pandas as pd\n",
    "%matplotlib inline\n"
   ]
  },
  {
   "cell_type": "code",
   "execution_count": null,
   "metadata": {},
   "outputs": [],
   "source": [
    "#1. Обрати реальні дані з kaggle або сгенерувати випадкові дані. Дані мають відповідати вимогам. "
   ]
  },
  {
   "cell_type": "code",
   "execution_count": 20,
   "metadata": {},
   "outputs": [],
   "source": [
    "data = pd.read_csv(\"MEGSignal(Audio&VisualStimulus).csv\") #Сигнал MEG при звуковому та візуальному подразнику"
   ]
  },
  {
   "cell_type": "code",
   "execution_count": 30,
   "metadata": {},
   "outputs": [
    {
     "data": {
      "text/html": [
       "<div>\n",
       "<style scoped>\n",
       "    .dataframe tbody tr th:only-of-type {\n",
       "        vertical-align: middle;\n",
       "    }\n",
       "\n",
       "    .dataframe tbody tr th {\n",
       "        vertical-align: top;\n",
       "    }\n",
       "\n",
       "    .dataframe thead th {\n",
       "        text-align: right;\n",
       "    }\n",
       "</style>\n",
       "<table border=\"1\" class=\"dataframe\">\n",
       "  <thead>\n",
       "    <tr style=\"text-align: right;\">\n",
       "      <th></th>\n",
       "      <th>Unnamed: 0</th>\n",
       "      <th>AudioStimulus</th>\n",
       "      <th>VisualStimulus</th>\n",
       "    </tr>\n",
       "  </thead>\n",
       "  <tbody>\n",
       "    <tr>\n",
       "      <th>0</th>\n",
       "      <td>3000</td>\n",
       "      <td>184.942</td>\n",
       "      <td>197.640</td>\n",
       "    </tr>\n",
       "    <tr>\n",
       "      <th>1</th>\n",
       "      <td>3001</td>\n",
       "      <td>184.964</td>\n",
       "      <td>156.942</td>\n",
       "    </tr>\n",
       "    <tr>\n",
       "      <th>2</th>\n",
       "      <td>3002</td>\n",
       "      <td>200.850</td>\n",
       "      <td>173.940</td>\n",
       "    </tr>\n",
       "    <tr>\n",
       "      <th>3</th>\n",
       "      <td>3003</td>\n",
       "      <td>190.754</td>\n",
       "      <td>203.584</td>\n",
       "    </tr>\n",
       "    <tr>\n",
       "      <th>4</th>\n",
       "      <td>3004</td>\n",
       "      <td>181.552</td>\n",
       "      <td>169.596</td>\n",
       "    </tr>\n",
       "    <tr>\n",
       "      <th>...</th>\n",
       "      <td>...</td>\n",
       "      <td>...</td>\n",
       "      <td>...</td>\n",
       "    </tr>\n",
       "    <tr>\n",
       "      <th>295</th>\n",
       "      <td>3295</td>\n",
       "      <td>196.420</td>\n",
       "      <td>163.506</td>\n",
       "    </tr>\n",
       "    <tr>\n",
       "      <th>296</th>\n",
       "      <td>3296</td>\n",
       "      <td>197.410</td>\n",
       "      <td>201.310</td>\n",
       "    </tr>\n",
       "    <tr>\n",
       "      <th>297</th>\n",
       "      <td>3297</td>\n",
       "      <td>181.278</td>\n",
       "      <td>182.234</td>\n",
       "    </tr>\n",
       "    <tr>\n",
       "      <th>298</th>\n",
       "      <td>3298</td>\n",
       "      <td>189.770</td>\n",
       "      <td>155.690</td>\n",
       "    </tr>\n",
       "    <tr>\n",
       "      <th>299</th>\n",
       "      <td>3299</td>\n",
       "      <td>200.140</td>\n",
       "      <td>192.700</td>\n",
       "    </tr>\n",
       "  </tbody>\n",
       "</table>\n",
       "<p>300 rows × 3 columns</p>\n",
       "</div>"
      ],
      "text/plain": [
       "     Unnamed: 0  AudioStimulus  VisualStimulus\n",
       "0          3000        184.942         197.640\n",
       "1          3001        184.964         156.942\n",
       "2          3002        200.850         173.940\n",
       "3          3003        190.754         203.584\n",
       "4          3004        181.552         169.596\n",
       "..          ...            ...             ...\n",
       "295        3295        196.420         163.506\n",
       "296        3296        197.410         201.310\n",
       "297        3297        181.278         182.234\n",
       "298        3298        189.770         155.690\n",
       "299        3299        200.140         192.700\n",
       "\n",
       "[300 rows x 3 columns]"
      ]
     },
     "execution_count": 30,
     "metadata": {},
     "output_type": "execute_result"
    }
   ],
   "source": [
    "data"
   ]
  },
  {
   "cell_type": "code",
   "execution_count": null,
   "metadata": {},
   "outputs": [],
   "source": [
    "# 2. Побудувати графік, що відображає розкид даних в групах"
   ]
  },
  {
   "cell_type": "code",
   "execution_count": 31,
   "metadata": {},
   "outputs": [
    {
     "data": {
      "image/png": "[encoded data removed]",
      "text/plain": [
       "<Figure size 864x360 with 1 Axes>"
      ]
     },
     "metadata": {},
     "output_type": "display_data"
    }
   ],
   "source": [
    "fig, ax = plt.subplots(figsize=(12,5))\n",
    "fig =  sns.boxplot(data = data)"
   ]
  },
  {
   "cell_type": "code",
   "execution_count": null,
   "metadata": {},
   "outputs": [],
   "source": [
    "# 3.для оцінки зв'язку між групами за коефіцієнтом кореляції Пірсона. \n",
    "#Функція має повертати значення коефіцієнту кореляції, значення ступеня\n",
    "#свободи та результат оцінки значимості зв'зку (significant або not significant). "
   ]
  },
  {
   "cell_type": "code",
   "execution_count": 34,
   "metadata": {},
   "outputs": [],
   "source": [
    "def cor_pirson(data):\n",
    "    r_t = len(data)*(sum(data.iloc[:,0]*data.iloc[:,1])) - sum(data.iloc[:,0])*sum(data.iloc[:,1])\n",
    "    r_b = (len(data)*sum(data.iloc[:,0]**2) - sum(data.iloc[:,0])**2)*(len(data)*sum(data.iloc[:,1]**2) - sum(data.iloc[:,1])**2)\n",
    "    r = r_t/np.sqrt(r_b)\n",
    "    \n",
    "    table_kor = pd.read_excel(\"table-kor-values.xlsx\",encoding = 'utf-8')    #Таблица корреляционных значений\n",
    "    \n",
    "    df = len(data)-2\n",
    "    table_val = 0\n",
    "    if(df < 130):\n",
    "        for i in range(len(table_kor)):\n",
    "            if(df < int(table_kor.iloc[i,0])):\n",
    "                if(df != table_kor.iloc[i-1,0]):\n",
    "                    table_val = (table_kor.iloc[i-1,1] if((table_kor.iloc[i,0]-df) >= abs(table_kor.iloc[i-1,0]-df)) else table_kor.iloc[i,1])\n",
    "                    break\n",
    "                else:\n",
    "                    table_val = table_kor.iloc[i-1,1]\n",
    "                    break\n",
    "    else:\n",
    "        table_val = table_kor.iloc[36,1]\n",
    "    significant = \"significant\" if(abs(r) > table_val) else \"not significant\"\n",
    "    return r,df,significant\n",
    "    "
   ]
  },
  {
   "cell_type": "code",
   "execution_count": 40,
   "metadata": {},
   "outputs": [
    {
     "data": {
      "text/plain": [
       "(-0.004457187788863379, 298, 'not significant')"
      ]
     },
     "execution_count": 40,
     "metadata": {},
     "output_type": "execute_result"
    }
   ],
   "source": [
    "result_pirson = cor_pirson(data)\n",
    "result_pirson"
   ]
  },
  {
   "cell_type": "code",
   "execution_count": null,
   "metadata": {},
   "outputs": [],
   "source": [
    "#4.для визначення відмінності між групами за критерієм Стьюдента.\n",
    "#Функція має повертати значення критерію Стьюдента,значення ступеня\n",
    "#свободи та результат оцінки значимості зв'зку (significant або not significant)."
   ]
  },
  {
   "cell_type": "code",
   "execution_count": 41,
   "metadata": {},
   "outputs": [],
   "source": [
    "def student(data):\n",
    "    data[\"Різниця\"] = data.iloc[:,0]-data.iloc[:,1]\n",
    "    M = np.mean(data.iloc[:,2])\n",
    "    st = np.std(data.iloc[:,2])\n",
    "    t = (M/st) * np.sqrt(len(data))\n",
    "    df = len(data)-1\n",
    "    \n",
    "    \n",
    "    table_values = pd.read_excel(\"table-paired-values.xlsx\",encoding = 'utf-8')    #Таблица корреляционных значений\n",
    "    \n",
    "    table_val = 0\n",
    "    for i in range(len(table_values)):\n",
    "        if(df < int(table_values.iloc[i,0])):\n",
    "            if(df != table_values.iloc[i-1,0]):\n",
    "                table_val = (table_values.iloc[i-1,1] if((table_values.iloc[i,0]-df) >= abs(table_values.iloc[i-1,0]-df)) else table_values.iloc[i,1])\n",
    "                break\n",
    "            else:\n",
    "                table_val = table_values.iloc[i-1,1]\n",
    "                break\n",
    "                \n",
    "    significant = \"significant\" if(t < table_val) else \"not significant\"\n",
    "    return t,df,significant\n",
    "    "
   ]
  },
  {
   "cell_type": "code",
   "execution_count": 42,
   "metadata": {},
   "outputs": [
    {
     "data": {
      "text/plain": [
       "(174.77376100313458, 299, 'not significant')"
      ]
     },
     "execution_count": 42,
     "metadata": {},
     "output_type": "execute_result"
    }
   ],
   "source": [
    "result_student = student(data)\n",
    "result_student"
   ]
  },
  {
   "cell_type": "code",
   "execution_count": null,
   "metadata": {},
   "outputs": [],
   "source": [
    "# 5.Перевірити розбіжність на між групами на даних з п. 1"
   ]
  },
  {
   "cell_type": "code",
   "execution_count": 43,
   "metadata": {
    "scrolled": true
   },
   "outputs": [
    {
     "data": {
      "text/html": [
       "<div>\n",
       "<style scoped>\n",
       "    .dataframe tbody tr th:only-of-type {\n",
       "        vertical-align: middle;\n",
       "    }\n",
       "\n",
       "    .dataframe tbody tr th {\n",
       "        vertical-align: top;\n",
       "    }\n",
       "\n",
       "    .dataframe thead th {\n",
       "        text-align: right;\n",
       "    }\n",
       "</style>\n",
       "<table border=\"1\" class=\"dataframe\">\n",
       "  <thead>\n",
       "    <tr style=\"text-align: right;\">\n",
       "      <th></th>\n",
       "      <th>Критерій Пірсона</th>\n",
       "      <th>Критерій Стьюдента</th>\n",
       "    </tr>\n",
       "  </thead>\n",
       "  <tbody>\n",
       "    <tr>\n",
       "      <th>Значення</th>\n",
       "      <td>-0.00445719</td>\n",
       "      <td>174.774</td>\n",
       "    </tr>\n",
       "    <tr>\n",
       "      <th>ступінь свободи</th>\n",
       "      <td>298</td>\n",
       "      <td>299</td>\n",
       "    </tr>\n",
       "    <tr>\n",
       "      <th>Значимість зв'язку</th>\n",
       "      <td>not significant</td>\n",
       "      <td>not significant</td>\n",
       "    </tr>\n",
       "  </tbody>\n",
       "</table>\n",
       "</div>"
      ],
      "text/plain": [
       "                   Критерій Пірсона Критерій Стьюдента\n",
       "Значення                -0.00445719            174.774\n",
       "ступінь свободи                 298                299\n",
       "Значимість зв'язку  not significant    not significant"
      ]
     },
     "execution_count": 43,
     "metadata": {},
     "output_type": "execute_result"
    }
   ],
   "source": [
    "table = pd.DataFrame({\n",
    "    \"Критерій Пірсона\":result_pirson,\n",
    "    \"Критерій Стьюдента\":result_student\n",
    "}, index = [\"Значення\", \"ступінь свободи\", \"Значимість зв'язку\"])\n",
    "table"
   ]
  },
  {
   "cell_type": "code",
   "execution_count": null,
   "metadata": {},
   "outputs": [],
   "source": [
    "# 6. Сформувати висновок про взаємозв'язок між групами та про їх розбіжність. "
   ]
  },
  {
   "cell_type": "code",
   "execution_count": 44,
   "metadata": {},
   "outputs": [
    {
     "name": "stdout",
     "output_type": "stream",
     "text": [
      "Зв'язку немає\n",
      "Парні групи різняться\n"
     ]
    }
   ],
   "source": [
    "if(table.iloc[2,0] == \"significant\"):\n",
    "    print(\"Статистично значимий зв'язок \")\n",
    "else:\n",
    "    print(\"Зв'язку немає\")\n",
    "          \n",
    "if(table.iloc[2,1] == \"significant\"):\n",
    "    print(\"Парні групи рівні\")\n",
    "else:\n",
    "    print(\"Парні групи різняться\")"
   ]
  }
 ],
 "metadata": {
  "kernelspec": {
   "display_name": "Python 3",
   "language": "python",
   "name": "python3"
  },
  "language_info": {
   "codemirror_mode": {
    "name": "ipython",
    "version": 3
   },
   "file_extension": ".py",
   "mimetype": "text/x-python",
   "name": "python",
   "nbconvert_exporter": "python",
   "pygments_lexer": "ipython3",
   "version": "3.6.9"
  }
 },
 "nbformat": 4,
 "nbformat_minor": 2
}
