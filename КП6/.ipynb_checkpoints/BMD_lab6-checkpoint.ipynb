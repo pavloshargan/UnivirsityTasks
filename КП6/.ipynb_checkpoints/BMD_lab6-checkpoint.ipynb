{
 "cells": [
  {
   "cell_type": "code",
   "execution_count": 1,
   "metadata": {},
   "outputs": [],
   "source": [
    "# Pavlo Sharhan \n",
    "# BS 83\n",
    "# KP-6"
   ]
  },
  {
   "cell_type": "code",
   "execution_count": null,
   "metadata": {},
   "outputs": [],
   "source": [
    "import seaborn as sns\n",
    "import numpy as np\n",
    "import matplotlib.pyplot as plt\n",
    "import pandas as pd\n",
    "%matplotlib inline\n"
   ]
  },
  {
   "cell_type": "code",
   "execution_count": null,
   "metadata": {},
   "outputs": [],
   "source": [
    "database1 = pd.read_csv(\"resources/reading.csv\",encoding = 'utf-8').iloc[3000:3300,:] #ЭКГ під час читання\n",
    "database2 = pd.read_csv(\"resources/music.csv\", encoding = 'utf-8').iloc[3000:3300,:]  #ЭКГ під час прослуховування музики\n",
    "\n",
    "\n"
   ]
  },
  {
   "cell_type": "code",
   "execution_count": null,
   "metadata": {},
   "outputs": [],
   "source": []
  },
  {
   "cell_type": "markdown",
   "metadata": {},
   "source": [
    "<p style=\"color:#4ca8ed;font-size:150%\">\n",
    "    1. Обрати реальні дані з kaggle або сгенерувати випадкові дані.\n",
    "    Дані мають відповідати вимогам.\n",
    "</p>"
   ]
  },
  {
   "cell_type": "code",
   "execution_count": 58,
   "metadata": {},
   "outputs": [
    {
     "data": {
      "text/html": [
       "<div>\n",
       "<style scoped>\n",
       "    .dataframe tbody tr th:only-of-type {\n",
       "        vertical-align: middle;\n",
       "    }\n",
       "\n",
       "    .dataframe tbody tr th {\n",
       "        vertical-align: top;\n",
       "    }\n",
       "\n",
       "    .dataframe thead th {\n",
       "        text-align: right;\n",
       "    }\n",
       "</style>\n",
       "<table border=\"1\" class=\"dataframe\">\n",
       "  <thead>\n",
       "    <tr style=\"text-align: right;\">\n",
       "      <th></th>\n",
       "      <th>Група-1.(Читання)</th>\n",
       "      <th>Група-2.(Музика)</th>\n",
       "    </tr>\n",
       "  </thead>\n",
       "  <tbody>\n",
       "    <tr>\n",
       "      <td>3000</td>\n",
       "      <td>924.71</td>\n",
       "      <td>988.20</td>\n",
       "    </tr>\n",
       "    <tr>\n",
       "      <td>3001</td>\n",
       "      <td>924.82</td>\n",
       "      <td>784.71</td>\n",
       "    </tr>\n",
       "    <tr>\n",
       "      <td>3002</td>\n",
       "      <td>1004.25</td>\n",
       "      <td>869.70</td>\n",
       "    </tr>\n",
       "    <tr>\n",
       "      <td>3003</td>\n",
       "      <td>953.77</td>\n",
       "      <td>1017.92</td>\n",
       "    </tr>\n",
       "    <tr>\n",
       "      <td>3004</td>\n",
       "      <td>907.76</td>\n",
       "      <td>847.98</td>\n",
       "    </tr>\n",
       "    <tr>\n",
       "      <td>...</td>\n",
       "      <td>...</td>\n",
       "      <td>...</td>\n",
       "    </tr>\n",
       "    <tr>\n",
       "      <td>3295</td>\n",
       "      <td>982.10</td>\n",
       "      <td>817.53</td>\n",
       "    </tr>\n",
       "    <tr>\n",
       "      <td>3296</td>\n",
       "      <td>987.05</td>\n",
       "      <td>1006.55</td>\n",
       "    </tr>\n",
       "    <tr>\n",
       "      <td>3297</td>\n",
       "      <td>906.39</td>\n",
       "      <td>911.17</td>\n",
       "    </tr>\n",
       "    <tr>\n",
       "      <td>3298</td>\n",
       "      <td>948.85</td>\n",
       "      <td>778.45</td>\n",
       "    </tr>\n",
       "    <tr>\n",
       "      <td>3299</td>\n",
       "      <td>1000.70</td>\n",
       "      <td>963.50</td>\n",
       "    </tr>\n",
       "  </tbody>\n",
       "</table>\n",
       "<p>300 rows × 2 columns</p>\n",
       "</div>"
      ],
      "text/plain": [
       "      Група-1.(Читання)  Група-2.(Музика)\n",
       "3000             924.71            988.20\n",
       "3001             924.82            784.71\n",
       "3002            1004.25            869.70\n",
       "3003             953.77           1017.92\n",
       "3004             907.76            847.98\n",
       "...                 ...               ...\n",
       "3295             982.10            817.53\n",
       "3296             987.05           1006.55\n",
       "3297             906.39            911.17\n",
       "3298             948.85            778.45\n",
       "3299            1000.70            963.50\n",
       "\n",
       "[300 rows x 2 columns]"
      ]
     },
     "execution_count": 58,
     "metadata": {},
     "output_type": "execute_result"
    }
   ],
   "source": [
    "database1 = pd.read_csv(\"resources/reading.csv\",encoding = 'utf-8').iloc[3000:3300,:] #ЭКГ під час читання\n",
    "database2 = pd.read_csv(\"resources/music.csv\", encoding = 'utf-8').iloc[3000:3300,:]  #ЭКГ під час прослуховування музики\n",
    "\n",
    "data = pd.DataFrame({\n",
    "    'Група-1.(Читання)':database1['Channel1'],\n",
    "    'Група-2.(Музика)' :database2['Channel1']\n",
    "})\n",
    "data\n"
   ]
  },
  {
   "cell_type": "markdown",
   "metadata": {},
   "source": [
    "<p style=\"color:#4ca8ed;font-size:150%\">\n",
    "    2. Побудувати графік, що відображає розкид даних в групах.\n",
    "</p>"
   ]
  },
  {
   "cell_type": "code",
   "execution_count": 3,
   "metadata": {},
   "outputs": [
    {
     "data": {
      "image/png": "[encoded data removed]",
      "text/plain": [
       "<Figure size 864x360 with 1 Axes>"
      ]
     },
     "metadata": {
      "needs_background": "light"
     },
     "output_type": "display_data"
    }
   ],
   "source": [
    "fig, ax = plt.subplots(figsize=(12,5))\n",
    "fig =  sns.boxplot(orient = \"h\",data = data, palette=\"pastel\")\n",
    "#sns.distplot(data[\"Група-1.(Читання)\"],bins = 100)"
   ]
  },
  {
   "cell_type": "markdown",
   "metadata": {},
   "source": [
    "<p style=\"color:#4ca8ed;font-size:150%\">\n",
    "    3.для оцінки зв'язку між групами за коефіцієнтом кореляції Пірсона. Функція має повертати значення коефіцієнту кореляції, значення ступеня свободи та результат оцінки значимості зв'зку (significant або not significant).\n",
    "</p>"
   ]
  },
  {
   "cell_type": "code",
   "execution_count": 4,
   "metadata": {},
   "outputs": [],
   "source": [
    "def cor_pirson(data):\n",
    "    r_t = len(data)*(sum(data.iloc[:,0]*data.iloc[:,1])) - sum(data.iloc[:,0])*sum(data.iloc[:,1])\n",
    "    r_b = (len(data)*sum(data.iloc[:,0]**2) - sum(data.iloc[:,0])**2)*(len(data)*sum(data.iloc[:,1]**2) - sum(data.iloc[:,1])**2)\n",
    "    r = r_t/np.sqrt(r_b)\n",
    "    \n",
    "    table_kor = pd.read_excel(\"resources/table-kor-values.xlsx\",encoding = 'utf-8')    #Таблица корреляционных значений\n",
    "    \n",
    "    df = len(data)-2\n",
    "    table_val = 0\n",
    "    if(df < 130):\n",
    "        for i in range(len(table_kor)):\n",
    "            if(df < int(table_kor.iloc[i,0])):\n",
    "                if(df != table_kor.iloc[i-1,0]):\n",
    "                    table_val = (table_kor.iloc[i-1,1] if((table_kor.iloc[i,0]-df) >= abs(table_kor.iloc[i-1,0]-df)) else table_kor.iloc[i,1])\n",
    "                    break\n",
    "                else:\n",
    "                    table_val = table_kor.iloc[i-1,1]\n",
    "                    break\n",
    "    else:\n",
    "        table_val = table_kor.iloc[36,1]\n",
    "    significant = \"significant\" if(abs(r) > table_val) else \"not significant\"\n",
    "    return r,df,significant\n",
    "    "
   ]
  },
  {
   "cell_type": "code",
   "execution_count": 5,
   "metadata": {},
   "outputs": [
    {
     "data": {
      "text/plain": [
       "(0.19603777877963183, 298, 'significant')"
      ]
     },
     "execution_count": 5,
     "metadata": {},
     "output_type": "execute_result"
    }
   ],
   "source": [
    "result_pirson = cor_pirson(data)\n",
    "result_pirson"
   ]
  },
  {
   "cell_type": "markdown",
   "metadata": {},
   "source": [
    "<p style=\"color:#4ca8ed;font-size:150%\">\n",
    "    4.для визначення відмінності між групами за критерієм Стьюдента. Функція має повертати значення критерію Стьюдента,значення ступеня свободи та результат оцінки значимості зв'зку (significant або not significant).\n",
    "</p>"
   ]
  },
  {
   "cell_type": "code",
   "execution_count": 6,
   "metadata": {},
   "outputs": [],
   "source": [
    "def student(data):\n",
    "    data[\"Різниця\"] = data.iloc[:,0]-data.iloc[:,1]\n",
    "    M = np.mean(data.iloc[:,2])\n",
    "    st = np.std(data.iloc[:,2])\n",
    "    t = (M/st) * np.sqrt(len(data))\n",
    "    df = len(data)-1\n",
    "    \n",
    "    \n",
    "    table_values = pd.read_excel(\"resources/table-paired-values.xlsx\",encoding = 'utf-8')    #Таблица корреляционных значений\n",
    "    \n",
    "    table_val = 0\n",
    "    for i in range(len(table_values)):\n",
    "        if(df < int(table_values.iloc[i,0])):\n",
    "            if(df != table_values.iloc[i-1,0]):\n",
    "                table_val = (table_values.iloc[i-1,1] if((table_values.iloc[i,0]-df) >= abs(table_values.iloc[i-1,0]-df)) else table_values.iloc[i,1])\n",
    "                break\n",
    "            else:\n",
    "                table_val = table_values.iloc[i-1,1]\n",
    "                break\n",
    "                \n",
    "    significant = \"significant\" if(t < table_val) else \"not significant\"\n",
    "    return t,df,significant\n",
    "    "
   ]
  },
  {
   "cell_type": "code",
   "execution_count": 7,
   "metadata": {},
   "outputs": [
    {
     "data": {
      "text/plain": [
       "(13.024607062126389, 299, 'not significant')"
      ]
     },
     "execution_count": 7,
     "metadata": {},
     "output_type": "execute_result"
    }
   ],
   "source": [
    "result_student = student(data)\n",
    "result_student"
   ]
  },
  {
   "cell_type": "markdown",
   "metadata": {},
   "source": [
    "<p style=\"color:#4ca8ed;font-size:150%\">\n",
    "    5.Перевірити розбіжність на між групами на даних з п. 1.\n",
    "</p>"
   ]
  },
  {
   "cell_type": "code",
   "execution_count": 8,
   "metadata": {
    "scrolled": true
   },
   "outputs": [
    {
     "data": {
      "text/html": [
       "<div>\n",
       "<style scoped>\n",
       "    .dataframe tbody tr th:only-of-type {\n",
       "        vertical-align: middle;\n",
       "    }\n",
       "\n",
       "    .dataframe tbody tr th {\n",
       "        vertical-align: top;\n",
       "    }\n",
       "\n",
       "    .dataframe thead th {\n",
       "        text-align: right;\n",
       "    }\n",
       "</style>\n",
       "<table border=\"1\" class=\"dataframe\">\n",
       "  <thead>\n",
       "    <tr style=\"text-align: right;\">\n",
       "      <th></th>\n",
       "      <th>Критерій Пірсона</th>\n",
       "      <th>Критерій Стьюдента</th>\n",
       "    </tr>\n",
       "  </thead>\n",
       "  <tbody>\n",
       "    <tr>\n",
       "      <td>Значення</td>\n",
       "      <td>0.196038</td>\n",
       "      <td>13.0246</td>\n",
       "    </tr>\n",
       "    <tr>\n",
       "      <td>ступінь свободи</td>\n",
       "      <td>298</td>\n",
       "      <td>299</td>\n",
       "    </tr>\n",
       "    <tr>\n",
       "      <td>Значимість зв'язку</td>\n",
       "      <td>significant</td>\n",
       "      <td>not significant</td>\n",
       "    </tr>\n",
       "  </tbody>\n",
       "</table>\n",
       "</div>"
      ],
      "text/plain": [
       "                   Критерій Пірсона Критерій Стьюдента\n",
       "Значення                   0.196038            13.0246\n",
       "ступінь свободи                 298                299\n",
       "Значимість зв'язку      significant    not significant"
      ]
     },
     "execution_count": 8,
     "metadata": {},
     "output_type": "execute_result"
    }
   ],
   "source": [
    "table = pd.DataFrame({\n",
    "    \"Критерій Пірсона\":result_pirson,\n",
    "    \"Критерій Стьюдента\":result_student\n",
    "}, index = [\"Значення\", \"ступінь свободи\", \"Значимість зв'язку\"])\n",
    "table"
   ]
  },
  {
   "cell_type": "markdown",
   "metadata": {},
   "source": [
    "<p style=\"color:#4ca8ed;font-size:150%\">\n",
    "    6. Сформувати висновок про взаємозв'язок між групами та про їх розбіжність.\n",
    "</p>"
   ]
  },
  {
   "cell_type": "code",
   "execution_count": 9,
   "metadata": {},
   "outputs": [
    {
     "name": "stdout",
     "output_type": "stream",
     "text": [
      "Корреляціонний зв'язок між ними статистично значимий\n",
      "парні групи відмінні\n"
     ]
    }
   ],
   "source": [
    "if(table.iloc[2,0] == \"significant\"):\n",
    "    print(\"Корреляціонний зв'язок між ними статистично значимий\")\n",
    "else:\n",
    "    print(\"Корреляціонний зв'язок між ними відсутній\")\n",
    "          \n",
    "if(table.iloc[2,1] == \"significant\"):\n",
    "    print(\"Парні групи рівні\")\n",
    "else:\n",
    "    print(\"парні групи відмінні\")"
   ]
  }
 ],
 "metadata": {
  "kernelspec": {
   "display_name": "Python 3",
   "language": "python",
   "name": "python3"
  },
  "language_info": {
   "codemirror_mode": {
    "name": "ipython",
    "version": 3
   },
   "file_extension": ".py",
   "mimetype": "text/x-python",
   "name": "python",
   "nbconvert_exporter": "python",
   "pygments_lexer": "ipython3",
   "version": "3.6.9"
  }
 },
 "nbformat": 4,
 "nbformat_minor": 2
}
