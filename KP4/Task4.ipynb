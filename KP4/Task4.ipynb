{
 "cells": [
  {
   "cell_type": "markdown",
   "metadata": {
    "colab_type": "text",
    "id": "2EyOSpkMJkLm"
   },
   "source": [
    " <h1 align=\"center\" style=\"color:Orange\">\n",
    "    Обробка та аналіз БМД.<br>\n",
    "    Группа: БС-83<br>\n",
    "    Шарган П.М.<br>\n",
    "    Практикум Номер 4\n",
    "</h1>"
   ]
  },
  {
   "cell_type": "markdown",
   "metadata": {},
   "source": [
    "### **Перевірка даних на нормальність за допомогою критерію Шапіра-Уілка**\n",
    "\n",
    "\n"
   ]
  },
  {
   "cell_type": "markdown",
   "metadata": {
    "colab_type": "text",
    "id": "5PcijeprNVJF"
   },
   "source": [
    " \n",
    "\n",
    "1.   Сгенеруйте набір даних, що містить не менше 6 змінних. Частину змінних згенеруйте за нормальний розподілом, частину - за будь-яким іншим розподілом. Кількість спостережень - 20.\n",
    "\n",
    "\n",
    "\n",
    "\n"
   ]
  },
  {
   "cell_type": "markdown",
   "metadata": {
    "colab_type": "text",
    "id": "TZ6nEDt-J6Sw"
   },
   "source": [
    "2.   Створіть функцію, що реалізує критерій Шапіро-Уілка та застосуйте її до кожної змінної набору данних.\n",
    "Детальний опис роботи критерію та приклад його розрахунку (с. 606):\n",
    "https://pdfs.semanticscholar.org/e4a7/42a4f0585b4e4069726f6628f4d4285a0827.pdf\n",
    "\n"
   ]
  },
  {
   "cell_type": "markdown",
   "metadata": {
    "colab_type": "text",
    "id": "1db-l1XakhYS"
   },
   "source": [
    "3. Сгенеруйте пусту таблицю, в якій кількість рядків - це кількість змінних + 1. Кількість стовбчиків - 3. Назва стовпчиків - Variable, Statistics, Distribution.\n",
    "Шаблон таблиці:\n",
    "https://drive.google.com/file/d/1gRNsk9UDhl_6GGkJ04q0cBWBgsJvTgI4/view?usp=sharing"
   ]
  },
  {
   "cell_type": "markdown",
   "metadata": {
    "colab_type": "text",
    "id": "Gt4u5fI5mHw7"
   },
   "source": [
    "4. Занести в стовпчик Variable назви змінних."
   ]
  },
  {
   "cell_type": "markdown",
   "metadata": {
    "colab_type": "text",
    "id": "VDPx0OrJmKMq"
   },
   "source": [
    "5. Занести в стовпчик Distribution результати роботи криетрію Шапіро-Уілка. Для змінних, які розподілені за нормальним законом вносити \"normal\", в протилежному вигляді - \"non-normal\"."
   ]
  },
  {
   "cell_type": "markdown",
   "metadata": {
    "colab_type": "text",
    "id": "tNL5-LWjmgN_"
   },
   "source": [
    "6. Розрахувати для всіх змінних, що розподілені за нормальним законом розрахувати середне значення та стандартне відхилення. Записати в таблицю. Форма запису: Середнє [стандартне відхилення].\n",
    "\n"
   ]
  },
  {
   "cell_type": "markdown",
   "metadata": {
    "colab_type": "text",
    "id": "yNpJG4jLm6HR"
   },
   "source": [
    "7. Розрахувати для всіх змінних, що розподілені за розподілом відсутнім від нормального розрахувати медіану та інтерквартильний розмах. Записати в таблицю. Форма запису: Медіана [25%; 75%]."
   ]
  },
  {
   "cell_type": "markdown",
   "metadata": {
    "colab_type": "text",
    "id": "f5q92XD0nJ6N"
   },
   "source": [
    "8. Зберегти таблицю в пдф форматі"
   ]
  },
  {
   "cell_type": "markdown",
   "metadata": {
    "colab_type": "text",
    "id": "5PcijeprNVJF"
   },
   "source": [
    " \n",
    "\n",
    "### 1.   Сгенеруйте набір даних, що містить не менше 6 змінних. Частину змінних згенеруйте за нормальний розподілом, частину - за будь-яким іншим розподілом. Кількість спостережень - 20.\n",
    "\n",
    "\n",
    "\n",
    "\n"
   ]
  },
  {
   "cell_type": "code",
   "execution_count": 45,
   "metadata": {},
   "outputs": [],
   "source": [
    "import pandas as pd\n",
    "import random\n",
    "import numpy as np"
   ]
  },
  {
   "cell_type": "code",
   "execution_count": 46,
   "metadata": {},
   "outputs": [],
   "source": [
    "df = pd.DataFrame(columns=['Height', 'Weight', 'Vo2Max', 'MaraphonPr(min)', 'WeeklyMilage', 'HRV'])"
   ]
  },
  {
   "cell_type": "code",
   "execution_count": 47,
   "metadata": {},
   "outputs": [],
   "source": [
    "df['Height'] = np.random.normal(165,15,20) "
   ]
  },
  {
   "cell_type": "code",
   "execution_count": 48,
   "metadata": {},
   "outputs": [],
   "source": [
    "df['Weight'] = np.random.normal(65,9,20) "
   ]
  },
  {
   "cell_type": "code",
   "execution_count": 49,
   "metadata": {},
   "outputs": [],
   "source": [
    "df['WeeklyMilage'] = np.random.normal(35,10,20) "
   ]
  },
  {
   "cell_type": "code",
   "execution_count": 50,
   "metadata": {},
   "outputs": [],
   "source": [
    "df['Vo2Max'] = np.random.chisquare(4,20) "
   ]
  },
  {
   "cell_type": "code",
   "execution_count": 51,
   "metadata": {},
   "outputs": [],
   "source": [
    "df['MaraphonPr(min)'] = np.random.chisquare(150,20) "
   ]
  },
  {
   "cell_type": "code",
   "execution_count": 52,
   "metadata": {},
   "outputs": [],
   "source": [
    "df['HRV'] = np.random.chisquare(2,20) "
   ]
  },
  {
   "cell_type": "code",
   "execution_count": 53,
   "metadata": {},
   "outputs": [
    {
     "data": {
      "text/html": [
       "<div>\n",
       "<style scoped>\n",
       "    .dataframe tbody tr th:only-of-type {\n",
       "        vertical-align: middle;\n",
       "    }\n",
       "\n",
       "    .dataframe tbody tr th {\n",
       "        vertical-align: top;\n",
       "    }\n",
       "\n",
       "    .dataframe thead th {\n",
       "        text-align: right;\n",
       "    }\n",
       "</style>\n",
       "<table border=\"1\" class=\"dataframe\">\n",
       "  <thead>\n",
       "    <tr style=\"text-align: right;\">\n",
       "      <th></th>\n",
       "      <th>Height</th>\n",
       "      <th>Weight</th>\n",
       "      <th>Vo2Max</th>\n",
       "      <th>MaraphonPr(min)</th>\n",
       "      <th>WeeklyMilage</th>\n",
       "      <th>HRV</th>\n",
       "    </tr>\n",
       "  </thead>\n",
       "  <tbody>\n",
       "    <tr>\n",
       "      <th>0</th>\n",
       "      <td>182.457862</td>\n",
       "      <td>63.286585</td>\n",
       "      <td>1.949757</td>\n",
       "      <td>155.839636</td>\n",
       "      <td>37.202150</td>\n",
       "      <td>0.265139</td>\n",
       "    </tr>\n",
       "    <tr>\n",
       "      <th>1</th>\n",
       "      <td>157.449474</td>\n",
       "      <td>64.599088</td>\n",
       "      <td>4.279895</td>\n",
       "      <td>137.541676</td>\n",
       "      <td>38.030116</td>\n",
       "      <td>3.703666</td>\n",
       "    </tr>\n",
       "    <tr>\n",
       "      <th>2</th>\n",
       "      <td>165.982396</td>\n",
       "      <td>57.947364</td>\n",
       "      <td>1.808108</td>\n",
       "      <td>129.532613</td>\n",
       "      <td>32.307504</td>\n",
       "      <td>0.125563</td>\n",
       "    </tr>\n",
       "    <tr>\n",
       "      <th>3</th>\n",
       "      <td>161.346472</td>\n",
       "      <td>83.233960</td>\n",
       "      <td>2.697552</td>\n",
       "      <td>157.618777</td>\n",
       "      <td>39.978286</td>\n",
       "      <td>0.494353</td>\n",
       "    </tr>\n",
       "    <tr>\n",
       "      <th>4</th>\n",
       "      <td>152.360431</td>\n",
       "      <td>61.825533</td>\n",
       "      <td>14.412837</td>\n",
       "      <td>166.161741</td>\n",
       "      <td>29.137053</td>\n",
       "      <td>0.150245</td>\n",
       "    </tr>\n",
       "    <tr>\n",
       "      <th>5</th>\n",
       "      <td>195.895834</td>\n",
       "      <td>73.480055</td>\n",
       "      <td>4.447863</td>\n",
       "      <td>143.945215</td>\n",
       "      <td>38.823913</td>\n",
       "      <td>3.337946</td>\n",
       "    </tr>\n",
       "    <tr>\n",
       "      <th>6</th>\n",
       "      <td>170.226200</td>\n",
       "      <td>44.264872</td>\n",
       "      <td>1.381011</td>\n",
       "      <td>145.484801</td>\n",
       "      <td>37.300585</td>\n",
       "      <td>2.322390</td>\n",
       "    </tr>\n",
       "    <tr>\n",
       "      <th>7</th>\n",
       "      <td>164.164407</td>\n",
       "      <td>75.466336</td>\n",
       "      <td>6.180284</td>\n",
       "      <td>151.977903</td>\n",
       "      <td>32.727421</td>\n",
       "      <td>0.763227</td>\n",
       "    </tr>\n",
       "    <tr>\n",
       "      <th>8</th>\n",
       "      <td>177.491968</td>\n",
       "      <td>62.781226</td>\n",
       "      <td>6.303087</td>\n",
       "      <td>160.508108</td>\n",
       "      <td>36.275946</td>\n",
       "      <td>1.493663</td>\n",
       "    </tr>\n",
       "    <tr>\n",
       "      <th>9</th>\n",
       "      <td>168.593760</td>\n",
       "      <td>54.967927</td>\n",
       "      <td>3.780536</td>\n",
       "      <td>217.791134</td>\n",
       "      <td>43.400552</td>\n",
       "      <td>6.245773</td>\n",
       "    </tr>\n",
       "    <tr>\n",
       "      <th>10</th>\n",
       "      <td>159.658569</td>\n",
       "      <td>68.780513</td>\n",
       "      <td>4.904511</td>\n",
       "      <td>154.139282</td>\n",
       "      <td>19.680804</td>\n",
       "      <td>1.278518</td>\n",
       "    </tr>\n",
       "    <tr>\n",
       "      <th>11</th>\n",
       "      <td>140.962600</td>\n",
       "      <td>58.902012</td>\n",
       "      <td>1.614255</td>\n",
       "      <td>136.343769</td>\n",
       "      <td>17.659457</td>\n",
       "      <td>2.149880</td>\n",
       "    </tr>\n",
       "    <tr>\n",
       "      <th>12</th>\n",
       "      <td>160.592991</td>\n",
       "      <td>59.552841</td>\n",
       "      <td>2.284279</td>\n",
       "      <td>177.195588</td>\n",
       "      <td>34.890291</td>\n",
       "      <td>4.419618</td>\n",
       "    </tr>\n",
       "    <tr>\n",
       "      <th>13</th>\n",
       "      <td>154.455536</td>\n",
       "      <td>62.430595</td>\n",
       "      <td>6.132358</td>\n",
       "      <td>136.423246</td>\n",
       "      <td>49.295316</td>\n",
       "      <td>1.660364</td>\n",
       "    </tr>\n",
       "    <tr>\n",
       "      <th>14</th>\n",
       "      <td>145.809817</td>\n",
       "      <td>56.713292</td>\n",
       "      <td>4.481508</td>\n",
       "      <td>193.405709</td>\n",
       "      <td>45.526240</td>\n",
       "      <td>0.466324</td>\n",
       "    </tr>\n",
       "    <tr>\n",
       "      <th>15</th>\n",
       "      <td>179.948503</td>\n",
       "      <td>65.617400</td>\n",
       "      <td>1.414329</td>\n",
       "      <td>139.641125</td>\n",
       "      <td>22.867962</td>\n",
       "      <td>3.643639</td>\n",
       "    </tr>\n",
       "    <tr>\n",
       "      <th>16</th>\n",
       "      <td>169.979940</td>\n",
       "      <td>64.227305</td>\n",
       "      <td>3.258361</td>\n",
       "      <td>170.543711</td>\n",
       "      <td>34.169331</td>\n",
       "      <td>0.005916</td>\n",
       "    </tr>\n",
       "    <tr>\n",
       "      <th>17</th>\n",
       "      <td>139.008458</td>\n",
       "      <td>75.059736</td>\n",
       "      <td>5.961429</td>\n",
       "      <td>122.764085</td>\n",
       "      <td>45.978844</td>\n",
       "      <td>3.503190</td>\n",
       "    </tr>\n",
       "    <tr>\n",
       "      <th>18</th>\n",
       "      <td>149.888312</td>\n",
       "      <td>74.415952</td>\n",
       "      <td>2.295331</td>\n",
       "      <td>126.905379</td>\n",
       "      <td>13.676710</td>\n",
       "      <td>0.889700</td>\n",
       "    </tr>\n",
       "    <tr>\n",
       "      <th>19</th>\n",
       "      <td>162.882287</td>\n",
       "      <td>62.026713</td>\n",
       "      <td>3.819280</td>\n",
       "      <td>128.822499</td>\n",
       "      <td>40.251754</td>\n",
       "      <td>1.354483</td>\n",
       "    </tr>\n",
       "  </tbody>\n",
       "</table>\n",
       "</div>"
      ],
      "text/plain": [
       "        Height     Weight     Vo2Max  MaraphonPr(min)  WeeklyMilage       HRV\n",
       "0   182.457862  63.286585   1.949757       155.839636     37.202150  0.265139\n",
       "1   157.449474  64.599088   4.279895       137.541676     38.030116  3.703666\n",
       "2   165.982396  57.947364   1.808108       129.532613     32.307504  0.125563\n",
       "3   161.346472  83.233960   2.697552       157.618777     39.978286  0.494353\n",
       "4   152.360431  61.825533  14.412837       166.161741     29.137053  0.150245\n",
       "5   195.895834  73.480055   4.447863       143.945215     38.823913  3.337946\n",
       "6   170.226200  44.264872   1.381011       145.484801     37.300585  2.322390\n",
       "7   164.164407  75.466336   6.180284       151.977903     32.727421  0.763227\n",
       "8   177.491968  62.781226   6.303087       160.508108     36.275946  1.493663\n",
       "9   168.593760  54.967927   3.780536       217.791134     43.400552  6.245773\n",
       "10  159.658569  68.780513   4.904511       154.139282     19.680804  1.278518\n",
       "11  140.962600  58.902012   1.614255       136.343769     17.659457  2.149880\n",
       "12  160.592991  59.552841   2.284279       177.195588     34.890291  4.419618\n",
       "13  154.455536  62.430595   6.132358       136.423246     49.295316  1.660364\n",
       "14  145.809817  56.713292   4.481508       193.405709     45.526240  0.466324\n",
       "15  179.948503  65.617400   1.414329       139.641125     22.867962  3.643639\n",
       "16  169.979940  64.227305   3.258361       170.543711     34.169331  0.005916\n",
       "17  139.008458  75.059736   5.961429       122.764085     45.978844  3.503190\n",
       "18  149.888312  74.415952   2.295331       126.905379     13.676710  0.889700\n",
       "19  162.882287  62.026713   3.819280       128.822499     40.251754  1.354483"
      ]
     },
     "execution_count": 53,
     "metadata": {},
     "output_type": "execute_result"
    }
   ],
   "source": [
    "df"
   ]
  },
  {
   "cell_type": "code",
   "execution_count": null,
   "metadata": {},
   "outputs": [],
   "source": []
  },
  {
   "cell_type": "markdown",
   "metadata": {
    "colab_type": "text",
    "id": "TZ6nEDt-J6Sw"
   },
   "source": [
    "2.   Створіть функцію, що реалізує критерій Шапіро-Уілка та застосуйте її до кожної змінної набору данних.\n",
    "Детальний опис роботи критерію та приклад його розрахунку (с. 606):\n",
    "https://pdfs.semanticscholar.org/e4a7/42a4f0585b4e4069726f6628f4d4285a0827.pdf\n",
    "\n"
   ]
  },
  {
   "cell_type": "code",
   "execution_count": 54,
   "metadata": {},
   "outputs": [],
   "source": [
    "def get_coeficients(obs_num, coef_file, dist_points_file):\n",
    "    test_coefs = pd.read_excel(coef_file)[obs_num]\n",
    "    w_tables =pd.read_excel(dist_points_file)\n",
    "    \n",
    "    # crutches for the god of crutches\n",
    "    # due to table shift (1 - 3, 2 -4), i firstly get\n",
    "    # the row with required n, then extract its value\n",
    "    headers = list(w_tables.columns.values)\n",
    "    required_row = w_tables.loc[w_tables[headers[0]] == 20]\n",
    "    return test_coefs[:10], required_row[headers[-1]].iloc[0]/1000\n",
    "    \n",
    "def squared_mean(array):\n",
    "    mean = np.mean(array)\n",
    "    return sum([(num-mean)**2 for num in array])\n",
    "    \n",
    "def mirror_substruct(array, test_coefs):\n",
    "    counter = 0\n",
    "    for idx in range(len(array)//2):\n",
    "        counter += test_coefs[idx]*(array.iloc[-idx-1] - array[idx])\n",
    "    return counter\n",
    "\n",
    "\n",
    "def shapiro_wilk(to_check):\n",
    "    observations_num = len(to_check)\n",
    "    middle = int(observations_num/2)\n",
    "    test_coefs, w_table = get_coeficients(observations_num, \n",
    "                                        \"Coeficients for the W test for normality.xlsx\",\n",
    "                                         \"Рoints of the distribution of W.xlsx\")\n",
    "    \n",
    "    sqrt_mean = squared_mean(to_check)\n",
    "    b = mirror_substruct(to_check, test_coefs)\n",
    "    result_coef = (b**2)/sqrt_mean\n",
    "    \n",
    "    return w_table, result_coef*100\n",
    "\n",
    "def is_normal(to_check):\n",
    "    w_table, result_coef = shapiro_wilk(to_check)\n",
    "    print(result_coef)\n",
    "    print(w_table)\n",
    "\n",
    "    if ( result_coef > w_table):\n",
    "        return True\n",
    "    return False\n",
    "\n"
   ]
  },
  {
   "cell_type": "code",
   "execution_count": 55,
   "metadata": {},
   "outputs": [
    {
     "name": "stdout",
     "output_type": "stream",
     "text": [
      "12.847953252978279\n",
      "0.905\n",
      "0.28030411740159733\n",
      "0.905\n",
      "0.31162724517307244\n",
      "0.905\n",
      "1.8241028253279314\n",
      "0.905\n",
      "0.7926276895118792\n",
      "0.905\n",
      "1.033927765516849\n",
      "0.905\n",
      "12.847953252978279\n",
      "0.905\n",
      "0.28030411740159733\n",
      "0.905\n",
      "0.31162724517307244\n",
      "0.905\n",
      "1.8241028253279314\n",
      "0.905\n",
      "0.7926276895118792\n",
      "0.905\n",
      "1.033927765516849\n",
      "0.905\n"
     ]
    }
   ],
   "source": [
    "table_st = pd.DataFrame(columns = ['Variable','Statistics','Distribution'])\n",
    "table_st['Variable'] = df.columns\n",
    "statistics_field = []\n",
    "for i in range(6):\n",
    "    if is_normal(df[df.columns[i]]):\n",
    "        statistics_field.append(str(df[df.columns[i]].mean()) + '['+str(df[df.columns[i]].std())+']' )\n",
    "    else:\n",
    "        statistics_field.append(str(df[df.columns[i]].median()) + '['+str(df[df.columns[i]].quantile(0.25))+ ',' +str(df[df.columns[i]].quantile(0.75))+ ']' )\n",
    "table_st['Statistics'] = statistics_field\n",
    "                      \n",
    "table_st['Distribution'] = ['normal' if is_normal(df[df.columns[i]]) else 'not normal' for i in range(6)]\n",
    "\n",
    " \n"
   ]
  },
  {
   "cell_type": "code",
   "execution_count": 56,
   "metadata": {},
   "outputs": [
    {
     "data": {
      "text/html": [
       "<div>\n",
       "<style scoped>\n",
       "    .dataframe tbody tr th:only-of-type {\n",
       "        vertical-align: middle;\n",
       "    }\n",
       "\n",
       "    .dataframe tbody tr th {\n",
       "        vertical-align: top;\n",
       "    }\n",
       "\n",
       "    .dataframe thead th {\n",
       "        text-align: right;\n",
       "    }\n",
       "</style>\n",
       "<table border=\"1\" class=\"dataframe\">\n",
       "  <thead>\n",
       "    <tr style=\"text-align: right;\">\n",
       "      <th></th>\n",
       "      <th>Variable</th>\n",
       "      <th>Statistics</th>\n",
       "      <th>Distribution</th>\n",
       "    </tr>\n",
       "  </thead>\n",
       "  <tbody>\n",
       "    <tr>\n",
       "      <th>0</th>\n",
       "      <td>Height</td>\n",
       "      <td>162.95779093664711[14.264123374377926]</td>\n",
       "      <td>normal</td>\n",
       "    </tr>\n",
       "    <tr>\n",
       "      <th>1</th>\n",
       "      <td>Weight</td>\n",
       "      <td>63.03390568317778[59.39013394381516,69.9553983...</td>\n",
       "      <td>not normal</td>\n",
       "    </tr>\n",
       "    <tr>\n",
       "      <th>2</th>\n",
       "      <td>Vo2Max</td>\n",
       "      <td>3.7999076101683738[2.2006486768166003,5.168740...</td>\n",
       "      <td>not normal</td>\n",
       "    </tr>\n",
       "    <tr>\n",
       "      <th>3</th>\n",
       "      <td>MaraphonPr(min)</td>\n",
       "      <td>152.62929976490125[23.864562770854366]</td>\n",
       "      <td>normal</td>\n",
       "    </tr>\n",
       "    <tr>\n",
       "      <th>4</th>\n",
       "      <td>WeeklyMilage</td>\n",
       "      <td>36.73904779992682[31.514891080680293,40.046653...</td>\n",
       "      <td>not normal</td>\n",
       "    </tr>\n",
       "    <tr>\n",
       "      <th>5</th>\n",
       "      <td>HRV</td>\n",
       "      <td>1.9136798793698406[1.7186882830790853]</td>\n",
       "      <td>normal</td>\n",
       "    </tr>\n",
       "  </tbody>\n",
       "</table>\n",
       "</div>"
      ],
      "text/plain": [
       "          Variable                                         Statistics  \\\n",
       "0           Height             162.95779093664711[14.264123374377926]   \n",
       "1           Weight  63.03390568317778[59.39013394381516,69.9553983...   \n",
       "2           Vo2Max  3.7999076101683738[2.2006486768166003,5.168740...   \n",
       "3  MaraphonPr(min)             152.62929976490125[23.864562770854366]   \n",
       "4     WeeklyMilage  36.73904779992682[31.514891080680293,40.046653...   \n",
       "5              HRV             1.9136798793698406[1.7186882830790853]   \n",
       "\n",
       "  Distribution  \n",
       "0       normal  \n",
       "1   not normal  \n",
       "2   not normal  \n",
       "3       normal  \n",
       "4   not normal  \n",
       "5       normal  "
      ]
     },
     "execution_count": 56,
     "metadata": {},
     "output_type": "execute_result"
    }
   ],
   "source": [
    "table_st"
   ]
  },
  {
   "cell_type": "code",
   "execution_count": 57,
   "metadata": {},
   "outputs": [
    {
     "data": {
      "text/plain": [
       "(0.0, 1.0, 0.0, 1.0)"
      ]
     },
     "execution_count": 57,
     "metadata": {},
     "output_type": "execute_result"
    },
    {
     "data": {
      "image/png": "[encoded data removed]",
      "text/plain": [
       "<Figure size 500x500 with 1 Axes>"
      ]
     },
     "metadata": {},
     "output_type": "display_data"
    }
   ],
   "source": [
    "import matplotlib.pyplot as plt\n",
    "import matplotlib.backends.backend_pdf\n",
    "\n",
    "fig = plt.figure(figsize=(2,2), dpi=250)\n",
    "ax=fig.add_subplot(111)\n",
    "cell_text = []\n",
    "for row in range(len(table_st)):\n",
    "    cell_text.append(table_st.iloc[row])\n",
    "\n",
    "ax.table(cellText=cell_text, colLabels=table_st.columns, loc='center')\n",
    "ax.axis('off')"
   ]
  },
  {
   "cell_type": "code",
   "execution_count": 58,
   "metadata": {},
   "outputs": [],
   "source": [
    "pdf = matplotlib.backends.backend_pdf.PdfPages(\"output.pdf\")\n",
    "pdf.savefig(fig)\n",
    "pdf.close()"
   ]
  },
  {
   "cell_type": "code",
   "execution_count": null,
   "metadata": {},
   "outputs": [],
   "source": []
  },
  {
   "cell_type": "code",
   "execution_count": null,
   "metadata": {},
   "outputs": [],
   "source": []
  },
  {
   "cell_type": "code",
   "execution_count": null,
   "metadata": {},
   "outputs": [],
   "source": []
  },
  {
   "cell_type": "code",
   "execution_count": null,
   "metadata": {},
   "outputs": [],
   "source": []
  },
  {
   "cell_type": "code",
   "execution_count": null,
   "metadata": {},
   "outputs": [],
   "source": []
  },
  {
   "cell_type": "code",
   "execution_count": null,
   "metadata": {},
   "outputs": [],
   "source": []
  },
  {
   "cell_type": "code",
   "execution_count": null,
   "metadata": {},
   "outputs": [],
   "source": []
  },
  {
   "cell_type": "code",
   "execution_count": null,
   "metadata": {},
   "outputs": [],
   "source": []
  },
  {
   "cell_type": "code",
   "execution_count": null,
   "metadata": {},
   "outputs": [],
   "source": []
  },
  {
   "cell_type": "code",
   "execution_count": null,
   "metadata": {},
   "outputs": [],
   "source": []
  }
 ],
 "metadata": {
  "colab": {
   "name": "Task4.ipynb",
   "provenance": []
  },
  "kernelspec": {
   "display_name": "Python 3",
   "language": "python",
   "name": "python3"
  },
  "language_info": {
   "codemirror_mode": {
    "name": "ipython",
    "version": 3
   },
   "file_extension": ".py",
   "mimetype": "text/x-python",
   "name": "python",
   "nbconvert_exporter": "python",
   "pygments_lexer": "ipython3",
   "version": "3.6.9"
  }
 },
 "nbformat": 4,
 "nbformat_minor": 1
}
