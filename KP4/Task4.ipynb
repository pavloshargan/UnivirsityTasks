{
 "cells": [
  {
   "cell_type": "markdown",
   "metadata": {
    "colab_type": "text",
    "id": "2EyOSpkMJkLm"
   },
   "source": [
    " <h1 align=\"center\" style=\"color:Orange\">\n",
    "    Обробка та аналіз БМД.<br>\n",
    "    Группа: БС-83<br>\n",
    "    Шарган П.М.<br>\n",
    "    Практикум Номер 4\n",
    "</h1>"
   ]
  },
  {
   "cell_type": "markdown",
   "metadata": {},
   "source": [
    "### **Перевірка даних на нормальність за допомогою критерію Шапіра-Уілка**\n",
    "\n",
    "\n"
   ]
  },
  {
   "cell_type": "markdown",
   "metadata": {
    "colab_type": "text",
    "id": "5PcijeprNVJF"
   },
   "source": [
    " \n",
    "\n",
    "1.   Сгенеруйте набір даних, що містить не менше 6 змінних. Частину змінних згенеруйте за нормальний розподілом, частину - за будь-яким іншим розподілом. Кількість спостережень - 20.\n",
    "\n",
    "\n",
    "\n",
    "\n"
   ]
  },
  {
   "cell_type": "markdown",
   "metadata": {
    "colab_type": "text",
    "id": "TZ6nEDt-J6Sw"
   },
   "source": [
    "2.   Створіть функцію, що реалізує критерій Шапіро-Уілка та застосуйте її до кожної змінної набору данних.\n",
    "Детальний опис роботи критерію та приклад його розрахунку (с. 606):\n",
    "https://pdfs.semanticscholar.org/e4a7/42a4f0585b4e4069726f6628f4d4285a0827.pdf\n",
    "\n"
   ]
  },
  {
   "cell_type": "markdown",
   "metadata": {
    "colab_type": "text",
    "id": "1db-l1XakhYS"
   },
   "source": [
    "3. Сгенеруйте пусту таблицю, в якій кількість рядків - це кількість змінних + 1. Кількість стовбчиків - 3. Назва стовпчиків - Variable, Statistics, Distribution.\n",
    "Шаблон таблиці:\n",
    "https://drive.google.com/file/d/1gRNsk9UDhl_6GGkJ04q0cBWBgsJvTgI4/view?usp=sharing"
   ]
  },
  {
   "cell_type": "markdown",
   "metadata": {
    "colab_type": "text",
    "id": "Gt4u5fI5mHw7"
   },
   "source": [
    "4. Занести в стовпчик Variable назви змінних."
   ]
  },
  {
   "cell_type": "markdown",
   "metadata": {
    "colab_type": "text",
    "id": "VDPx0OrJmKMq"
   },
   "source": [
    "5. Занести в стовпчик Distribution результати роботи криетрію Шапіро-Уілка. Для змінних, які розподілені за нормальним законом вносити \"normal\", в протилежному вигляді - \"non-normal\"."
   ]
  },
  {
   "cell_type": "markdown",
   "metadata": {
    "colab_type": "text",
    "id": "tNL5-LWjmgN_"
   },
   "source": [
    "6. Розрахувати для всіх змінних, що розподілені за нормальним законом розрахувати середне значення та стандартне відхилення. Записати в таблицю. Форма запису: Середнє [стандартне відхилення].\n",
    "\n"
   ]
  },
  {
   "cell_type": "markdown",
   "metadata": {
    "colab_type": "text",
    "id": "yNpJG4jLm6HR"
   },
   "source": [
    "7. Розрахувати для всіх змінних, що розподілені за розподілом відсутнім від нормального розрахувати медіану та інтерквартильний розмах. Записати в таблицю. Форма запису: Медіана [25%; 75%]."
   ]
  },
  {
   "cell_type": "markdown",
   "metadata": {
    "colab_type": "text",
    "id": "f5q92XD0nJ6N"
   },
   "source": [
    "8. Зберегти таблицю в пдф форматі"
   ]
  },
  {
   "cell_type": "markdown",
   "metadata": {
    "colab_type": "text",
    "id": "5PcijeprNVJF"
   },
   "source": [
    " \n",
    "\n",
    "### 1.   Сгенеруйте набір даних, що містить не менше 6 змінних. Частину змінних згенеруйте за нормальний розподілом, частину - за будь-яким іншим розподілом. Кількість спостережень - 20.\n",
    "\n",
    "\n",
    "\n",
    "\n"
   ]
  },
  {
   "cell_type": "code",
   "execution_count": 1,
   "metadata": {},
   "outputs": [],
   "source": [
    "import pandas as pd\n",
    "import random\n",
    "import numpy as np"
   ]
  },
  {
   "cell_type": "code",
   "execution_count": 2,
   "metadata": {},
   "outputs": [],
   "source": [
    "df = pd.DataFrame(columns=['Height', 'Weight', 'Vo2Max', 'MaraphonPr(min)', 'WeeklyMilage', 'HRV'])"
   ]
  },
  {
   "cell_type": "code",
   "execution_count": 3,
   "metadata": {},
   "outputs": [],
   "source": [
    "df['Height'] = np.random.normal(165,15,20) "
   ]
  },
  {
   "cell_type": "code",
   "execution_count": 4,
   "metadata": {},
   "outputs": [],
   "source": [
    "df['Weight'] = np.random.normal(65,9,20) "
   ]
  },
  {
   "cell_type": "code",
   "execution_count": 5,
   "metadata": {},
   "outputs": [],
   "source": [
    "df['WeeklyMilage'] = np.random.normal(35,10,20) "
   ]
  },
  {
   "cell_type": "code",
   "execution_count": 6,
   "metadata": {},
   "outputs": [],
   "source": [
    "df['Vo2Max'] = np.random.chisquare(4,20) "
   ]
  },
  {
   "cell_type": "code",
   "execution_count": 7,
   "metadata": {},
   "outputs": [],
   "source": [
    "df['MaraphonPr(min)'] = np.random.chisquare(150,20) "
   ]
  },
  {
   "cell_type": "code",
   "execution_count": 8,
   "metadata": {},
   "outputs": [],
   "source": [
    "df['HRV'] = np.random.chisquare(2,20) "
   ]
  },
  {
   "cell_type": "code",
   "execution_count": 9,
   "metadata": {},
   "outputs": [
    {
     "data": {
      "text/html": [
       "<div>\n",
       "<style scoped>\n",
       "    .dataframe tbody tr th:only-of-type {\n",
       "        vertical-align: middle;\n",
       "    }\n",
       "\n",
       "    .dataframe tbody tr th {\n",
       "        vertical-align: top;\n",
       "    }\n",
       "\n",
       "    .dataframe thead th {\n",
       "        text-align: right;\n",
       "    }\n",
       "</style>\n",
       "<table border=\"1\" class=\"dataframe\">\n",
       "  <thead>\n",
       "    <tr style=\"text-align: right;\">\n",
       "      <th></th>\n",
       "      <th>Height</th>\n",
       "      <th>Weight</th>\n",
       "      <th>Vo2Max</th>\n",
       "      <th>MaraphonPr(min)</th>\n",
       "      <th>WeeklyMilage</th>\n",
       "      <th>HRV</th>\n",
       "    </tr>\n",
       "  </thead>\n",
       "  <tbody>\n",
       "    <tr>\n",
       "      <th>0</th>\n",
       "      <td>158.208261</td>\n",
       "      <td>69.022127</td>\n",
       "      <td>2.518433</td>\n",
       "      <td>149.191604</td>\n",
       "      <td>28.194138</td>\n",
       "      <td>0.564608</td>\n",
       "    </tr>\n",
       "    <tr>\n",
       "      <th>1</th>\n",
       "      <td>141.039444</td>\n",
       "      <td>62.393442</td>\n",
       "      <td>1.964689</td>\n",
       "      <td>179.245110</td>\n",
       "      <td>17.966875</td>\n",
       "      <td>6.936152</td>\n",
       "    </tr>\n",
       "    <tr>\n",
       "      <th>2</th>\n",
       "      <td>170.325735</td>\n",
       "      <td>56.352457</td>\n",
       "      <td>3.717990</td>\n",
       "      <td>170.969874</td>\n",
       "      <td>57.663297</td>\n",
       "      <td>6.591365</td>\n",
       "    </tr>\n",
       "    <tr>\n",
       "      <th>3</th>\n",
       "      <td>182.420716</td>\n",
       "      <td>54.817429</td>\n",
       "      <td>4.942368</td>\n",
       "      <td>126.915792</td>\n",
       "      <td>28.921306</td>\n",
       "      <td>0.269462</td>\n",
       "    </tr>\n",
       "    <tr>\n",
       "      <th>4</th>\n",
       "      <td>175.177807</td>\n",
       "      <td>72.179643</td>\n",
       "      <td>4.861349</td>\n",
       "      <td>166.549118</td>\n",
       "      <td>20.266385</td>\n",
       "      <td>4.607715</td>\n",
       "    </tr>\n",
       "    <tr>\n",
       "      <th>5</th>\n",
       "      <td>151.990005</td>\n",
       "      <td>68.895537</td>\n",
       "      <td>1.542570</td>\n",
       "      <td>161.831420</td>\n",
       "      <td>35.136373</td>\n",
       "      <td>3.687322</td>\n",
       "    </tr>\n",
       "    <tr>\n",
       "      <th>6</th>\n",
       "      <td>198.019818</td>\n",
       "      <td>84.597570</td>\n",
       "      <td>4.691128</td>\n",
       "      <td>142.697103</td>\n",
       "      <td>36.410499</td>\n",
       "      <td>0.261753</td>\n",
       "    </tr>\n",
       "    <tr>\n",
       "      <th>7</th>\n",
       "      <td>159.013345</td>\n",
       "      <td>68.343574</td>\n",
       "      <td>6.108543</td>\n",
       "      <td>175.578472</td>\n",
       "      <td>50.099468</td>\n",
       "      <td>3.596308</td>\n",
       "    </tr>\n",
       "    <tr>\n",
       "      <th>8</th>\n",
       "      <td>170.173851</td>\n",
       "      <td>56.353853</td>\n",
       "      <td>1.139732</td>\n",
       "      <td>122.569769</td>\n",
       "      <td>21.723478</td>\n",
       "      <td>0.434339</td>\n",
       "    </tr>\n",
       "    <tr>\n",
       "      <th>9</th>\n",
       "      <td>181.783335</td>\n",
       "      <td>63.564363</td>\n",
       "      <td>7.262750</td>\n",
       "      <td>164.342405</td>\n",
       "      <td>31.691047</td>\n",
       "      <td>0.792604</td>\n",
       "    </tr>\n",
       "    <tr>\n",
       "      <th>10</th>\n",
       "      <td>175.006915</td>\n",
       "      <td>65.848756</td>\n",
       "      <td>4.100989</td>\n",
       "      <td>173.098915</td>\n",
       "      <td>44.179759</td>\n",
       "      <td>3.429631</td>\n",
       "    </tr>\n",
       "    <tr>\n",
       "      <th>11</th>\n",
       "      <td>140.871712</td>\n",
       "      <td>61.757206</td>\n",
       "      <td>1.415006</td>\n",
       "      <td>138.999861</td>\n",
       "      <td>34.935214</td>\n",
       "      <td>3.341023</td>\n",
       "    </tr>\n",
       "    <tr>\n",
       "      <th>12</th>\n",
       "      <td>186.222669</td>\n",
       "      <td>60.381436</td>\n",
       "      <td>3.157329</td>\n",
       "      <td>140.600190</td>\n",
       "      <td>50.495829</td>\n",
       "      <td>4.548403</td>\n",
       "    </tr>\n",
       "    <tr>\n",
       "      <th>13</th>\n",
       "      <td>165.232123</td>\n",
       "      <td>53.642552</td>\n",
       "      <td>3.357436</td>\n",
       "      <td>166.712381</td>\n",
       "      <td>35.961838</td>\n",
       "      <td>2.114007</td>\n",
       "    </tr>\n",
       "    <tr>\n",
       "      <th>14</th>\n",
       "      <td>171.134229</td>\n",
       "      <td>72.786984</td>\n",
       "      <td>1.817595</td>\n",
       "      <td>136.751527</td>\n",
       "      <td>27.219167</td>\n",
       "      <td>2.832670</td>\n",
       "    </tr>\n",
       "    <tr>\n",
       "      <th>15</th>\n",
       "      <td>157.015419</td>\n",
       "      <td>65.834538</td>\n",
       "      <td>7.046232</td>\n",
       "      <td>167.075798</td>\n",
       "      <td>34.239122</td>\n",
       "      <td>0.231923</td>\n",
       "    </tr>\n",
       "    <tr>\n",
       "      <th>16</th>\n",
       "      <td>155.567028</td>\n",
       "      <td>54.560077</td>\n",
       "      <td>6.564189</td>\n",
       "      <td>145.882467</td>\n",
       "      <td>36.259395</td>\n",
       "      <td>0.857847</td>\n",
       "    </tr>\n",
       "    <tr>\n",
       "      <th>17</th>\n",
       "      <td>186.833270</td>\n",
       "      <td>62.233781</td>\n",
       "      <td>11.302367</td>\n",
       "      <td>135.421083</td>\n",
       "      <td>25.463956</td>\n",
       "      <td>0.155815</td>\n",
       "    </tr>\n",
       "    <tr>\n",
       "      <th>18</th>\n",
       "      <td>162.668036</td>\n",
       "      <td>55.912099</td>\n",
       "      <td>6.144736</td>\n",
       "      <td>140.138616</td>\n",
       "      <td>40.238696</td>\n",
       "      <td>0.313070</td>\n",
       "    </tr>\n",
       "    <tr>\n",
       "      <th>19</th>\n",
       "      <td>153.677690</td>\n",
       "      <td>75.108032</td>\n",
       "      <td>3.308974</td>\n",
       "      <td>142.652977</td>\n",
       "      <td>38.863564</td>\n",
       "      <td>1.781290</td>\n",
       "    </tr>\n",
       "  </tbody>\n",
       "</table>\n",
       "</div>"
      ],
      "text/plain": [
       "        Height     Weight     Vo2Max  MaraphonPr(min)  WeeklyMilage       HRV\n",
       "0   158.208261  69.022127   2.518433       149.191604     28.194138  0.564608\n",
       "1   141.039444  62.393442   1.964689       179.245110     17.966875  6.936152\n",
       "2   170.325735  56.352457   3.717990       170.969874     57.663297  6.591365\n",
       "3   182.420716  54.817429   4.942368       126.915792     28.921306  0.269462\n",
       "4   175.177807  72.179643   4.861349       166.549118     20.266385  4.607715\n",
       "5   151.990005  68.895537   1.542570       161.831420     35.136373  3.687322\n",
       "6   198.019818  84.597570   4.691128       142.697103     36.410499  0.261753\n",
       "7   159.013345  68.343574   6.108543       175.578472     50.099468  3.596308\n",
       "8   170.173851  56.353853   1.139732       122.569769     21.723478  0.434339\n",
       "9   181.783335  63.564363   7.262750       164.342405     31.691047  0.792604\n",
       "10  175.006915  65.848756   4.100989       173.098915     44.179759  3.429631\n",
       "11  140.871712  61.757206   1.415006       138.999861     34.935214  3.341023\n",
       "12  186.222669  60.381436   3.157329       140.600190     50.495829  4.548403\n",
       "13  165.232123  53.642552   3.357436       166.712381     35.961838  2.114007\n",
       "14  171.134229  72.786984   1.817595       136.751527     27.219167  2.832670\n",
       "15  157.015419  65.834538   7.046232       167.075798     34.239122  0.231923\n",
       "16  155.567028  54.560077   6.564189       145.882467     36.259395  0.857847\n",
       "17  186.833270  62.233781  11.302367       135.421083     25.463956  0.155815\n",
       "18  162.668036  55.912099   6.144736       140.138616     40.238696  0.313070\n",
       "19  153.677690  75.108032   3.308974       142.652977     38.863564  1.781290"
      ]
     },
     "execution_count": 9,
     "metadata": {},
     "output_type": "execute_result"
    }
   ],
   "source": [
    "df"
   ]
  },
  {
   "cell_type": "code",
   "execution_count": null,
   "metadata": {},
   "outputs": [],
   "source": []
  },
  {
   "cell_type": "markdown",
   "metadata": {
    "colab_type": "text",
    "id": "TZ6nEDt-J6Sw"
   },
   "source": [
    "2.   Створіть функцію, що реалізує критерій Шапіро-Уілка та застосуйте її до кожної змінної набору данних.\n",
    "Детальний опис роботи критерію та приклад його розрахунку (с. 606):\n",
    "https://pdfs.semanticscholar.org/e4a7/42a4f0585b4e4069726f6628f4d4285a0827.pdf\n",
    "\n"
   ]
  },
  {
   "cell_type": "code",
   "execution_count": 10,
   "metadata": {},
   "outputs": [],
   "source": [
    "def get_coeficients(obs_num, coef_file, dist_points_file):\n",
    "    test_coefs = pd.read_excel(coef_file)[obs_num]\n",
    "    w_tables =pd.read_excel(dist_points_file)\n",
    "    \n",
    "    # crutches for the god of crutches\n",
    "    # due to table shift (1 - 3, 2 -4), i firstly get\n",
    "    # the row with required n, then extract its value\n",
    "    headers = list(w_tables.columns.values)\n",
    "    required_row = w_tables.loc[w_tables[headers[0]] == 20]\n",
    "    return test_coefs[:10], required_row[headers[-1]].iloc[0]/1000\n",
    "    \n",
    "def squared_mean(array):\n",
    "    mean = np.mean(array)\n",
    "    return sum([(num-mean)**2 for num in array])\n",
    "    \n",
    "def mirror_substruct(array, test_coefs):\n",
    "    counter = 0\n",
    "    for idx in range(len(array)//2):\n",
    "        counter += test_coefs[idx]*(array.iloc[-idx-1] - array[idx])\n",
    "    return counter\n",
    "\n",
    "\n",
    "def shapiro_wilk(to_check):\n",
    "    observations_num = len(to_check)\n",
    "    middle = int(observations_num/2)\n",
    "    test_coefs, w_table = get_coeficients(observations_num, \n",
    "                                        \"Coeficients for the W test for normality.xlsx\",\n",
    "                                         \"Рoints of the distribution of W.xlsx\")\n",
    "    \n",
    "    sqrt_mean = squared_mean(to_check)\n",
    "    b = mirror_substruct(to_check, test_coefs)\n",
    "    result_coef = (b**2)/sqrt_mean\n",
    "    \n",
    "    return w_table, result_coef*100\n",
    "\n",
    "def is_normal(to_check):\n",
    "    w_table, result_coef = shapiro_wilk(to_check)\n",
    "    print(result_coef)\n",
    "    print(w_table)\n",
    "\n",
    "    if ( result_coef > w_table):\n",
    "        return True\n",
    "    return False\n",
    "\n"
   ]
  },
  {
   "cell_type": "code",
   "execution_count": 11,
   "metadata": {},
   "outputs": [
    {
     "name": "stdout",
     "output_type": "stream",
     "text": [
      "1.2485663104271534e-06\n",
      "0.905\n",
      "0.22341337857835655\n",
      "0.905\n",
      "12.994784484981611\n",
      "0.905\n",
      "9.270684217025186\n",
      "0.905\n",
      "2.585161227405618\n",
      "0.905\n",
      "13.414443721137163\n",
      "0.905\n",
      "1.2485663104271534e-06\n",
      "0.905\n",
      "0.22341337857835655\n",
      "0.905\n",
      "12.994784484981611\n",
      "0.905\n",
      "9.270684217025186\n",
      "0.905\n",
      "2.585161227405618\n",
      "0.905\n",
      "13.414443721137163\n",
      "0.905\n"
     ]
    }
   ],
   "source": [
    "table_st = pd.DataFrame(columns = ['Variable','Statistics','Distribution'])\n",
    "table_st['Variable'] = df.columns\n",
    "statistics_field = []\n",
    "for i in range(6):\n",
    "    if is_normal(df[df.columns[i]]):\n",
    "        statistics_field.append(str(df[df.columns[i]].mean()) + '['+str(df[df.columns[i]].std())+']' )\n",
    "    else:\n",
    "        statistics_field.append(str(df[df.columns[i]].median()) + '['+str(df[df.columns[i]].quantile(0.25))+ ',' +str(df[df.columns[i]].quantile(0.75))+ ']' )\n",
    "table_st['Statistics'] = statistics_field\n",
    "                      \n",
    "table_st['Distribution'] = ['normal' if is_normal(df[df.columns[i]]) else 'not normal' for i in range(6)]\n",
    "\n",
    " \n"
   ]
  },
  {
   "cell_type": "code",
   "execution_count": 12,
   "metadata": {},
   "outputs": [
    {
     "data": {
      "text/html": [
       "<div>\n",
       "<style scoped>\n",
       "    .dataframe tbody tr th:only-of-type {\n",
       "        vertical-align: middle;\n",
       "    }\n",
       "\n",
       "    .dataframe tbody tr th {\n",
       "        vertical-align: top;\n",
       "    }\n",
       "\n",
       "    .dataframe thead th {\n",
       "        text-align: right;\n",
       "    }\n",
       "</style>\n",
       "<table border=\"1\" class=\"dataframe\">\n",
       "  <thead>\n",
       "    <tr style=\"text-align: right;\">\n",
       "      <th></th>\n",
       "      <th>Variable</th>\n",
       "      <th>Statistics</th>\n",
       "      <th>Distribution</th>\n",
       "    </tr>\n",
       "  </thead>\n",
       "  <tbody>\n",
       "    <tr>\n",
       "      <th>0</th>\n",
       "      <td>Height</td>\n",
       "      <td>167.70298684321767[156.65332139341638,176.8291...</td>\n",
       "      <td>not normal</td>\n",
       "    </tr>\n",
       "    <tr>\n",
       "      <th>1</th>\n",
       "      <td>Weight</td>\n",
       "      <td>62.97890286914569[56.35350425036086,68.9271843...</td>\n",
       "      <td>not normal</td>\n",
       "    </tr>\n",
       "    <tr>\n",
       "      <th>2</th>\n",
       "      <td>Vo2Max</td>\n",
       "      <td>4.34822019050044[2.5365328161812366]</td>\n",
       "      <td>normal</td>\n",
       "    </tr>\n",
       "    <tr>\n",
       "      <th>3</th>\n",
       "      <td>MaraphonPr(min)</td>\n",
       "      <td>152.36122412191693[17.269778289185346]</td>\n",
       "      <td>normal</td>\n",
       "    </tr>\n",
       "    <tr>\n",
       "      <th>4</th>\n",
       "      <td>WeeklyMilage</td>\n",
       "      <td>34.79647033450674[10.366500794071952]</td>\n",
       "      <td>normal</td>\n",
       "    </tr>\n",
       "    <tr>\n",
       "      <th>5</th>\n",
       "      <td>HRV</td>\n",
       "      <td>2.3673652036013566[2.160607940504393]</td>\n",
       "      <td>normal</td>\n",
       "    </tr>\n",
       "  </tbody>\n",
       "</table>\n",
       "</div>"
      ],
      "text/plain": [
       "          Variable                                         Statistics  \\\n",
       "0           Height  167.70298684321767[156.65332139341638,176.8291...   \n",
       "1           Weight  62.97890286914569[56.35350425036086,68.9271843...   \n",
       "2           Vo2Max               4.34822019050044[2.5365328161812366]   \n",
       "3  MaraphonPr(min)             152.36122412191693[17.269778289185346]   \n",
       "4     WeeklyMilage              34.79647033450674[10.366500794071952]   \n",
       "5              HRV              2.3673652036013566[2.160607940504393]   \n",
       "\n",
       "  Distribution  \n",
       "0   not normal  \n",
       "1   not normal  \n",
       "2       normal  \n",
       "3       normal  \n",
       "4       normal  \n",
       "5       normal  "
      ]
     },
     "execution_count": 12,
     "metadata": {},
     "output_type": "execute_result"
    }
   ],
   "source": [
    "table_st"
   ]
  },
  {
   "cell_type": "code",
   "execution_count": 13,
   "metadata": {},
   "outputs": [
    {
     "data": {
      "text/plain": [
       "(0.0, 1.0, 0.0, 1.0)"
      ]
     },
     "execution_count": 13,
     "metadata": {},
     "output_type": "execute_result"
    }
   ],
   "source": [
    "import matplotlib.pyplot as plt\n",
    "import matplotlib.backends.backend_pdf\n",
    "\n",
    "fig = plt.figure(figsize=(2,2), dpi=250)\n",
    "ax=fig.add_subplot(111)\n",
    "cell_text = []\n",
    "for row in range(len(table_st)):\n",
    "    cell_text.append(table_st.iloc[row])\n",
    "\n",
    "ax.table(cellText=cell_text, colLabels=table_st.columns, loc='center')\n",
    "ax.axis('off')"
   ]
  },
  {
   "cell_type": "code",
   "execution_count": 14,
   "metadata": {},
   "outputs": [],
   "source": [
    "pdf = matplotlib.backends.backend_pdf.PdfPages(\"output.pdf\")\n",
    "pdf.savefig(fig)\n",
    "pdf.close()"
   ]
  },
  {
   "cell_type": "code",
   "execution_count": null,
   "metadata": {},
   "outputs": [],
   "source": []
  },
  {
   "cell_type": "code",
   "execution_count": null,
   "metadata": {},
   "outputs": [],
   "source": []
  },
  {
   "cell_type": "code",
   "execution_count": null,
   "metadata": {},
   "outputs": [],
   "source": []
  },
  {
   "cell_type": "code",
   "execution_count": null,
   "metadata": {},
   "outputs": [],
   "source": []
  },
  {
   "cell_type": "code",
   "execution_count": null,
   "metadata": {},
   "outputs": [],
   "source": []
  },
  {
   "cell_type": "code",
   "execution_count": null,
   "metadata": {},
   "outputs": [],
   "source": []
  },
  {
   "cell_type": "code",
   "execution_count": null,
   "metadata": {},
   "outputs": [],
   "source": []
  },
  {
   "cell_type": "code",
   "execution_count": null,
   "metadata": {},
   "outputs": [],
   "source": []
  },
  {
   "cell_type": "code",
   "execution_count": null,
   "metadata": {},
   "outputs": [],
   "source": []
  },
  {
   "cell_type": "code",
   "execution_count": null,
   "metadata": {},
   "outputs": [],
   "source": []
  }
 ],
 "metadata": {
  "colab": {
   "name": "Task4.ipynb",
   "provenance": []
  },
  "kernelspec": {
   "display_name": "Python 3",
   "language": "python",
   "name": "python3"
  },
  "language_info": {
   "codemirror_mode": {
    "name": "ipython",
    "version": 3
   },
   "file_extension": ".py",
   "mimetype": "text/x-python",
   "name": "python",
   "nbconvert_exporter": "python",
   "pygments_lexer": "ipython3",
   "version": "3.6.9"
  }
 },
 "nbformat": 4,
 "nbformat_minor": 1
}
