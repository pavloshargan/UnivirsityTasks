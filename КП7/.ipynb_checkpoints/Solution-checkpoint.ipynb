{
 "cells": [
  {
   "cell_type": "code",
   "execution_count": null,
   "metadata": {},
   "outputs": [],
   "source": [
    "# Pavlo Sharhan \n",
    "# BS 83\n",
    "# KP-6"
   ]
  },
  {
   "cell_type": "code",
   "execution_count": null,
   "metadata": {},
   "outputs": [],
   "source": [
    "import seaborn as sns\n",
    "import numpy as np\n",
    "import matplotlib.pyplot as plt\n",
    "import pandas as pd"
   ]
  },
  {
   "cell_type": "markdown",
   "metadata": {},
   "source": [
    "<p style=\"color:#4ca8ed;font-size:150%\">\n",
    "    1. Обрати реальні дані з kaggle або сгенерувати випадкові дані. Дані повинні відповідати вимогам\n",
    "</p>"
   ]
  },
  {
   "cell_type": "markdown",
   "metadata": {},
   "source": [
    "database = pd.read_csv(\"resources/at.csv\",encoding = 'utf-8')\n",
    "\n",
    "database"
   ]
  },
  {
   "cell_type": "markdown",
   "metadata": {},
   "source": [
    "<p style=\"color:#4ca8ed;font-size:150%\">\n",
    "    2. Побудувати графік, що відображає розкид даних в групах.\n",
    "</p>"
   ]
  },
  {
   "cell_type": "code",
   "execution_count": 3,
   "metadata": {},
   "outputs": [
    {
     "name": "stdout",
     "output_type": "stream",
     "text": [
      "151  3337\n"
     ]
    },
    {
     "data": {
      "image/png": "[encoded data removed]",
      "text/plain": [
       "<Figure size 864x360 with 1 Axes>"
      ]
     },
     "metadata": {
      "needs_background": "light"
     },
     "output_type": "display_data"
    }
   ],
   "source": [
    "group1 = []\n",
    "group2 = []\n",
    "val = 11\n",
    "cond = 1\n",
    "\n",
    "j = 0 \n",
    "\n",
    "for i in range(len(database)):\n",
    "#     group1.append(database.iloc[i,val]) if (database.iloc[i,cond] != \"Vegetarian\") else group2.append(database.iloc[i,val])\n",
    "    if(database.iloc[i,cond] == \"Uluru\"):\n",
    "        j += 1\n",
    "        group1.append(database.iloc[i,val])\n",
    "    elif(database.iloc[i,cond] == \"Sydney\"):\n",
    "        group2.append(database.iloc[i,val])\n",
    "    if(j > 150):\n",
    "        break\n",
    "\n",
    "print(str(len(group1))+\"  \"+str(len(group2)))\n",
    "data = pd.DataFrame({\n",
    "     'Група-1': group1[0:(len(group2))] if(len(group1)> len(group2)) else group1,\n",
    "     'Група-2': group2[0:(len(group1))] if(len(group2)> len(group1)) else group2\n",
    "})\n",
    "# data\n",
    "fig, ax = plt.subplots(figsize=(12,5))\n",
    "fig =  sns.boxplot(orient = \"h\",data = data, palette=\"pastel\")"
   ]
  },
  {
   "cell_type": "markdown",
   "metadata": {},
   "source": [
    "<p style=\"color:#4ca8ed;font-size:150%\">\n",
    "    3.для оцінки вімінностей дисперсій між групами за критерієм Лівеня. Функція має повертати значення тесту та результат оцінки рівності дисперсій (significant або not significant).\n",
    "</p>"
   ]
  },
  {
   "cell_type": "code",
   "execution_count": 4,
   "metadata": {},
   "outputs": [],
   "source": [
    "def Liveni(data):\n",
    "    df = len(data)-1\n",
    "    table = []; \n",
    "    print(\"df - \"+str(df))\n",
    "    if(df > 20):\n",
    "        table = pd.read_excel(\"resources/Liveni.xlsx\",encoding = 'utf-8').iloc[21,12]    #Таблица\n",
    "    elif(df > 15):\n",
    "        table = pd.read_excel(\"resources/Liveni.xlsx\",encoding = 'utf-8').iloc[df,11]    #Таблица\n",
    "    elif(df > 10):\n",
    "        table = pd.read_excel(\"resources/Liveni.xlsx\",encoding = 'utf-8').iloc[df,10]    #Таблица\n",
    "    else:\n",
    "        table = pd.read_excel(\"resources/Liveni.xlsx\",encoding = 'utf-8').iloc[df,df]    #Таблица\n",
    "    \n",
    "    std1 = np.std(data.iloc[:,0]);\n",
    "    std2 = np.std(data.iloc[:,1]);\n",
    "    F = std1**2/std2**2 if(std1 > std2) else std2**2/std1**2\n",
    "    significant = \"not significant\" if(F > table) else \"significant\"\n",
    "    \n",
    "    print(\"table value - \"+str(table))\n",
    "    return F,df,significant\n",
    "    "
   ]
  },
  {
   "cell_type": "code",
   "execution_count": 5,
   "metadata": {},
   "outputs": [
    {
     "name": "stdout",
     "output_type": "stream",
     "text": [
      "df - 150\n",
      "table value - 1.45\n"
     ]
    },
    {
     "data": {
      "text/plain": [
       "(1.2986284836633637, 150, 'significant')"
      ]
     },
     "execution_count": 5,
     "metadata": {},
     "output_type": "execute_result"
    }
   ],
   "source": [
    "result_Liveni = Liveni(data)\n",
    "result_Liveni"
   ]
  },
  {
   "cell_type": "markdown",
   "metadata": {},
   "source": [
    "<p style=\"color:#4ca8ed;font-size:150%\">\n",
    "    4.для визначення відмінності між групами за критерієм Стьюдента в залежності від рівності/відмінності дисперсій. Функція має повертати значення критерію Стьюдента,значення ступеня свободи та результат оцінки значимості зв'зку (significant або not significant).\n",
    "</p>"
   ]
  },
  {
   "cell_type": "code",
   "execution_count": 6,
   "metadata": {},
   "outputs": [],
   "source": [
    "def student(data, liv): #True if(result_Liveni[2] == \"significant\") else False\n",
    "    std1 = np.std(data.iloc[:,0])\n",
    "    std2 = np.std(data.iloc[:,1])\n",
    "    \n",
    "    m1 = np.mean(data.iloc[:,0])\n",
    "    m2 = np.mean(data.iloc[:,1])\n",
    "    \n",
    "    n = len(data)\n",
    "    \n",
    "    df = 2*n - 2\n",
    "    table_values= pd.read_excel(\"resources/Student.xlsx\",encoding = 'utf-8')    #Таблица корреляционных значений\n",
    "    table_val = 0\n",
    "    for i in range(len(table_values)):\n",
    "        if(df < int(table_values.iloc[i,0])):\n",
    "            if(df != table_values.iloc[i-1,0]):\n",
    "                table_val = (table_values.iloc[i-1,1] if((table_values.iloc[i,0]-df) >= abs(table_values.iloc[i-1,0]-df)) else table_values.iloc[i,1])\n",
    "                break\n",
    "            else:\n",
    "                table_val = table_values.iloc[i-1,1]\n",
    "                break\n",
    "    \n",
    "    print(\"df - \"+str(df))\n",
    "    print(\"table value - \"+str(table_val))\n",
    "    t = 0\n",
    "    \n",
    "    if (liv[2] == \"significant\"):\n",
    "        t = abs(m1-m2)/np.sqrt(std1**2/n + std2**2/n)\n",
    "    else:\n",
    "        t = abs(m1-m2)/np.sqrt(((n-1)*(std1**2) + (n-1)*(std2**2))/(df)*(2/n))\n",
    "    \n",
    "    significant = \"significant\" if(t < table_val) else \"not significant\"\n",
    "    return t,df,significant\n",
    "    "
   ]
  },
  {
   "cell_type": "code",
   "execution_count": 7,
   "metadata": {},
   "outputs": [
    {
     "name": "stdout",
     "output_type": "stream",
     "text": [
      "df - 300\n",
      "table value - 1.968\n"
     ]
    },
    {
     "data": {
      "text/plain": [
       "(1.2264774600987305, 300, 'significant')"
      ]
     },
     "execution_count": 7,
     "metadata": {},
     "output_type": "execute_result"
    }
   ],
   "source": [
    "result_student = student(data,result_Liveni)\n",
    "result_student"
   ]
  },
  {
   "cell_type": "markdown",
   "metadata": {},
   "source": [
    "<p style=\"color:#4ca8ed;font-size:150%\">\n",
    "    5.Перевірити розбіжність на між групами на даних з п. 1.\n",
    "</p>"
   ]
  },
  {
   "cell_type": "code",
   "execution_count": 8,
   "metadata": {
    "scrolled": true
   },
   "outputs": [
    {
     "data": {
      "text/html": [
       "<div>\n",
       "<style scoped>\n",
       "    .dataframe tbody tr th:only-of-type {\n",
       "        vertical-align: middle;\n",
       "    }\n",
       "\n",
       "    .dataframe tbody tr th {\n",
       "        vertical-align: top;\n",
       "    }\n",
       "\n",
       "    .dataframe thead th {\n",
       "        text-align: right;\n",
       "    }\n",
       "</style>\n",
       "<table border=\"1\" class=\"dataframe\">\n",
       "  <thead>\n",
       "    <tr style=\"text-align: right;\">\n",
       "      <th></th>\n",
       "      <th>Критерій Лівені</th>\n",
       "      <th>Критерій Стьюдента</th>\n",
       "    </tr>\n",
       "  </thead>\n",
       "  <tbody>\n",
       "    <tr>\n",
       "      <td>Значення</td>\n",
       "      <td>1.29863</td>\n",
       "      <td>1.22648</td>\n",
       "    </tr>\n",
       "    <tr>\n",
       "      <td>ступінь свободи</td>\n",
       "      <td>150</td>\n",
       "      <td>300</td>\n",
       "    </tr>\n",
       "    <tr>\n",
       "      <td>Значимість зв'язку</td>\n",
       "      <td>significant</td>\n",
       "      <td>significant</td>\n",
       "    </tr>\n",
       "  </tbody>\n",
       "</table>\n",
       "</div>"
      ],
      "text/plain": [
       "                   Критерій Лівені Критерій Стьюдента\n",
       "Значення                   1.29863            1.22648\n",
       "ступінь свободи                150                300\n",
       "Значимість зв'язку     significant        significant"
      ]
     },
     "execution_count": 8,
     "metadata": {},
     "output_type": "execute_result"
    }
   ],
   "source": [
    "table = pd.DataFrame({\n",
    "    \"Критерій Лівені\":result_Liveni,\n",
    "    \"Критерій Стьюдента\":result_student\n",
    "}, index = [\"Значення\", \"ступінь свободи\", \"Значимість зв'язку\"])\n",
    "table"
   ]
  },
  {
   "cell_type": "markdown",
   "metadata": {},
   "source": [
    "<p style=\"color:#4ca8ed;font-size:150%\">\n",
    "    6.Сформувати висновок про взаємозв'язок між групами та про їх розбіжність.\n",
    "</p>"
   ]
  },
  {
   "cell_type": "code",
   "execution_count": 9,
   "metadata": {},
   "outputs": [
    {
     "name": "stdout",
     "output_type": "stream",
     "text": [
      "Дисперсії статистично рівні\n",
      "Середні статистично рівні\n"
     ]
    }
   ],
   "source": [
    "if(table.iloc[2,0] == \"significant\"):\n",
    "    print(\"Дисперсії статистично рівні\")\n",
    "else:\n",
    "    print(\"Дисперсії статистично відмінні\")\n",
    "          \n",
    "if(table.iloc[2,1] == \"significant\"):\n",
    "    print(\"Середні статистично рівні\")\n",
    "else:\n",
    "    print(\"Середні статистично відмінні\")"
   ]
  }
 ],
 "metadata": {
  "kernelspec": {
   "display_name": "Python 3",
   "language": "python",
   "name": "python3"
  },
  "language_info": {
   "codemirror_mode": {
    "name": "ipython",
    "version": 3
   },
   "file_extension": ".py",
   "mimetype": "text/x-python",
   "name": "python",
   "nbconvert_exporter": "python",
   "pygments_lexer": "ipython3",
   "version": "3.6.9"
  }
 },
 "nbformat": 4,
 "nbformat_minor": 2
}
